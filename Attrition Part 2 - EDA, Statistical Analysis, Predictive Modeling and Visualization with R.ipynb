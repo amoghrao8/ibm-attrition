{
 "cells": [
  {
   "cell_type": "markdown",
   "metadata": {},
   "source": [
    "\n",
    "  \n",
    "# Attrition Part 2 \n",
    "# EDA, Statistical Analysis, Modeling and Visualization with R\n",
    "   <font size=\"3\">Author: Amogh Rao</font>\n"
   ]
  },
  {
   "cell_type": "markdown",
   "metadata": {},
   "source": [
    "## Contents\n",
    "\n",
    " 1. Introduction and Ingestion\n",
    " 2. Exploratory Data Analysis\n",
    " 3. Socially Responsible People Analytics\n",
    " 4. Pair Plots and Correlations\n",
    " 5. Feature Importance and Selection\n",
    " 6. Predicting Attrition\n",
    " 7. Concluding Thoughts"
   ]
  },
  {
   "cell_type": "markdown",
   "metadata": {},
   "source": [
    "## Introduction and Ingestion\n",
    "\n",
    "In the second part of this project, I'll be exploring our prepared database in an effort to better understand what are the statistically significant drivers of attrition and how do we predict them, along with the model design we would implement in our solution and present as a dynamic dashboard.\n",
    "\n",
    "In Part 1 we ingested, modeled and loaded the client data into our Postgres server. Now we will query this database and transform the data so its ready for analysis. Given how small this dataset is and the purpose of the analysis, I will be querying all the tables together. This will help give us an accurate idea of which variables are significantly correlated across dimension tables. In reality, we would probably want to join 2 to 3 tables at a time so our workspace isnt overwhelmed. We could decide this based on the business questions, or subject matter expertise. For example, compensation is usually correlated with experience, role and qualifications. So when analyzing compensation metrics, we would want to query all 3 dimension tables to look for sneaky multicollinearity that may come up later in our inferential modelling.\n",
    "\n",
    "As a quick reminder, these are the business questions we want to address -\n",
    "\n",
    "1. What kinds of attrition are we facing and how concerning are they given industry benchmarks?\n",
    "2. Which departments and job roles are most at-risk?\n",
    "3. What are the statistically significant drivers of attrition based on our pre-defined metrics?\n",
    "4. What is every employee's risk of exit (Probability of Attrition)?\n",
    "\n",
    "For this project we'll be focusing on 2 types of attrition -\n",
    "\n",
    "1. New Hire Attrition\n",
    "2. Regrettable/High-Performer Attrition"
   ]
  },
  {
   "cell_type": "markdown",
   "metadata": {},
   "source": [
    "### Loading The Necessary Libraries"
   ]
  },
  {
   "cell_type": "code",
   "execution_count": 229,
   "metadata": {},
   "outputs": [],
   "source": [
    "options(warn=-1)\n",
    "library(tidyverse)\n",
    "library(data.table)\n",
    "library(RPostgres)\n",
    "library(DBI)\n",
    "library(GGally)\n",
    "library(plotly)\n",
    "library(corrplot)\n",
    "library(ggcorrplot)\n",
    "library(heatmaply)\n",
    "library(gridExtra)\n",
    "library(fastDummies)\n",
    "library(wesanderson)\n",
    "library(repr)\n",
    "library(caTools)\n",
    "library(MASS)\n",
    "library(DescTools)\n",
    "library(car)\n",
    "library(caret)\n",
    "library(ROCR)"
   ]
  },
  {
   "cell_type": "markdown",
   "metadata": {},
   "source": [
    "### Connect to Database"
   ]
  },
  {
   "cell_type": "code",
   "execution_count": 3,
   "metadata": {},
   "outputs": [],
   "source": [
    "con <- dbConnect(RPostgres::Postgres(), \n",
    "                 dbname = \"ibmattrition\", \n",
    "                 host = \"localhost\", \n",
    "                 port = 5432,\n",
    "                 user = \"postgres\",\n",
    "                 password = \"petproject\")"
   ]
  },
  {
   "cell_type": "markdown",
   "metadata": {},
   "source": [
    "### Build Analysis Dataset"
   ]
  },
  {
   "cell_type": "code",
   "execution_count": 245,
   "metadata": {},
   "outputs": [],
   "source": [
    "alltables  <- dbSendQuery(con, \"SELECT * FROM churn.orgid\n",
    "JOIN churn.compensation USING (employeeid)\n",
    "JOIN churn.function USING (employeeid)\n",
    "JOIN churn.engagement USING (employeeid)\n",
    "JOIN churn.performance USING (employeeid)\n",
    "JOIN churn.personal USING (employeeid)\")\n",
    "\n",
    "df <- dbFetch(alltables)"
   ]
  },
  {
   "cell_type": "markdown",
   "metadata": {},
   "source": [
    "### Quick Data Cleaning and Prep"
   ]
  },
  {
   "cell_type": "code",
   "execution_count": 246,
   "metadata": {},
   "outputs": [],
   "source": [
    "df  <- df %>% mutate_if(is.character, as.factor) # We're gonna turn all the character variables into factors\n",
    "df <- subset(df, select = -c(employeeid)) # Since employeeid isn't a predictor, we'll be excluding it from the analysis"
   ]
  },
  {
   "cell_type": "code",
   "execution_count": 119,
   "metadata": {},
   "outputs": [
    {
     "name": "stdout",
     "output_type": "stream",
     "text": [
      "'data.frame':\t1470 obs. of  28 variables:\n",
      " $ attrition        : Factor w/ 2 levels \"No\",\"Yes\": 2 1 2 1 1 1 1 1 1 1 ...\n",
      " $ dailyrate        : num  1102 279 1373 1392 591 ...\n",
      " $ income           : num  5993 5130 2090 2909 3468 ...\n",
      " $ overtime         : Factor w/ 2 levels \"No\",\"Yes\": 2 1 2 2 1 1 2 1 1 1 ...\n",
      " $ salaryhike       : num  11 23 15 11 12 13 20 22 21 13 ...\n",
      " $ stockoption      : int  0 1 0 0 1 0 3 1 0 2 ...\n",
      " $ department       : Factor w/ 3 levels \"Human Resources\",..: 3 2 2 2 2 2 2 2 2 2 ...\n",
      " $ jobrole          : Factor w/ 9 levels \"Healthcare Representative\",..: 8 7 3 7 3 3 3 3 5 1 ...\n",
      " $ joblevel         : int  2 2 1 1 1 1 1 1 3 2 ...\n",
      " $ travel           : Factor w/ 3 levels \"Non-Travel\",\"Travel_Frequently\",..: 3 2 3 2 3 2 3 3 2 3 ...\n",
      " $ envsat           : int  2 3 4 4 1 4 3 4 4 3 ...\n",
      " $ involvement      : int  3 2 2 3 3 3 4 3 2 3 ...\n",
      " $ jobsat           : int  4 2 3 3 2 4 1 3 3 3 ...\n",
      " $ relationsat      : int  1 4 2 3 4 3 1 2 2 2 ...\n",
      " $ yearswithmanager : int  5 7 0 0 2 6 0 0 8 7 ...\n",
      " $ worklifebal      : int  1 3 3 3 3 2 2 3 3 2 ...\n",
      " $ performancerating: int  3 4 3 3 3 3 4 4 4 3 ...\n",
      " $ lastpromotion    : int  0 1 0 3 2 3 0 0 1 7 ...\n",
      " $ currentrole      : int  4 7 0 7 2 7 0 0 7 7 ...\n",
      " $ trainings        : int  0 3 3 3 3 2 3 2 2 3 ...\n",
      " $ age              : int  41 49 37 33 27 32 59 30 38 36 ...\n",
      " $ distfromhome     : int  1 8 2 3 2 2 3 24 23 27 ...\n",
      " $ education        : int  2 1 2 4 1 2 3 1 3 3 ...\n",
      " $ educationfield   : Factor w/ 6 levels \"Human Resources\",..: 2 2 5 2 4 2 4 2 2 4 ...\n",
      " $ gender           : Factor w/ 2 levels \"Female\",\"Male\": 1 2 2 1 2 2 1 2 2 2 ...\n",
      " $ maritalstatus    : Factor w/ 3 levels \"Divorced\",\"Married\",..: 3 2 3 2 2 3 2 1 3 2 ...\n",
      " $ previouscompanies: int  8 1 6 1 9 0 4 1 0 6 ...\n",
      " $ totalexp         : int  8 10 7 8 6 8 12 1 10 17 ...\n"
     ]
    }
   ],
   "source": [
    "str(df)"
   ]
  },
  {
   "cell_type": "markdown",
   "metadata": {
    "scrolled": false
   },
   "source": [
    "## Exploratory Analysis\n",
    "\n",
    "For the introductory EDA, I'll be following a question-answer pattern where I can put my thoughts down and dig into the drivers of those thoughts.\n",
    "\n",
    "1. Types of attrition\n",
    "2. General breakdown of attrition by features\n",
    "3. Statistical significance of drivers"
   ]
  },
  {
   "cell_type": "markdown",
   "metadata": {},
   "source": [
    "### What's the total attrition count and percentage?"
   ]
  },
  {
   "cell_type": "code",
   "execution_count": 257,
   "metadata": {},
   "outputs": [
    {
     "data": {
      "image/png": "[encoded data removed]",
      "text/plain": [
       "plot without title"
      ]
     },
     "metadata": {},
     "output_type": "display_data"
    }
   ],
   "source": [
    "options(repr.plot.width=7, repr.plot.height=5)\n",
    "\n",
    "count <- ggplot(aes(x=attrition, fill = attrition), data = df) + geom_bar() + ggtitle(\"Total Attrition Count\") +\n",
    "xlab(\"Attrition\") + ylab(\"Number of Employees\") + scale_fill_manual(values = wes_palette(2, name = \"GrandBudapest1\"))\n",
    "\n",
    "percent <- ggplot(aes(x=attrition, fill = attrition), data = df) + ggtitle(\"Total Attrition %\") +\n",
    "geom_bar(aes(y = (..count..)*100/sum(..count..))) + xlab(\"Attrition\") + ylab(\"Percentage\") + \n",
    "scale_fill_manual(values = wes_palette(2, name = \"GrandBudapest1\"))\n",
    "\n",
    "grid.arrange(count, percent, ncol=2)"
   ]
  },
  {
   "cell_type": "markdown",
   "metadata": {},
   "source": [
    "### Does this attrition look different for new hires and high performers?"
   ]
  },
  {
   "cell_type": "code",
   "execution_count": 255,
   "metadata": {},
   "outputs": [
    {
     "data": {
      "image/png": "[encoded data removed]",
      "text/plain": [
       "plot without title"
      ]
     },
     "metadata": {},
     "output_type": "display_data"
    }
   ],
   "source": [
    "# Suppress summarise info\n",
    "options(dplyr.summarise.inform = FALSE)\n",
    "\n",
    "df$newhire <- ifelse(df$currentrole <= 1, \"Yes\", \"No\")\n",
    "dfn <- df[df$newhire == \"Yes\",]\n",
    "\n",
    "df$highperformer <- ifelse(df$performancerating == 4 , \"Yes\", \"No\")\n",
    "dfhp <- df[df$highperformer == \"Yes\",]\n",
    "\n",
    "overall  <- df %>% group_by(attrition) %>% summarise(Count=n()) %>% \n",
    "mutate(percent=round(prop.table(Count),2) * 100) %>% ggplot(aes(x=attrition, y=percent, fill = attrition)) + \n",
    "geom_bar(stat=\"identity\", show.legend = FALSE) + labs(x=\"Attrition\", y=\"Percentage\") + \n",
    "ggtitle(\"Overall Attrition\") +\n",
    "scale_fill_manual(values = wes_palette(2, name = \"GrandBudapest1\")) \n",
    "\n",
    "nh  <- dfn %>% group_by(attrition) %>% summarise(Count=n()) %>% \n",
    "mutate(percent=round(prop.table(Count),2) * 100) %>% ggplot(aes(x=attrition, y=percent, fill = attrition)) + \n",
    "geom_bar(stat=\"identity\", show.legend = FALSE) + labs(x=\"Attrition\", y=\"Percentage\") +\n",
    "ggtitle(\"New Hire Attrition\") +\n",
    "scale_fill_manual(values = wes_palette(2, name = \"GrandBudapest1\"))\n",
    "\n",
    "hp  <- dfhp %>% group_by(attrition) %>% summarise(Count=n()) %>% \n",
    "mutate(percent=round(prop.table(Count),2) * 100) %>% ggplot(aes(x=attrition, y=percent, fill = attrition)) + \n",
    "geom_bar(stat=\"identity\", show.legend = FALSE) + labs(x=\"Attrition\", y=\"Percentage\") + \n",
    "ggtitle(\"High Performer Attrition\") +\n",
    "scale_fill_manual(values = wes_palette(2, name = \"GrandBudapest1\"))\n",
    "\n",
    "\n",
    "grid.arrange(overall, nh, hp, ncol=3)"
   ]
  },
  {
   "cell_type": "markdown",
   "metadata": {},
   "source": [
    "A major concern here is that new hire attrition is far above the regular rate, not to mention far above the <a href=\"https://www.linkedin.com/business/learning/blog/learner-engagement/see-the-industries-with-the-highest-turnover-and-why-it-s-so-hi\" target=\"_blank\">industry benchmark of 13.2% attrition</a>. Fortunately, our high performer attrition is not worrying."
   ]
  },
  {
   "cell_type": "markdown",
   "metadata": {},
   "source": [
    "### Let's explore this attrition by some common facets - Gender, Department and Job Role"
   ]
  },
  {
   "cell_type": "markdown",
   "metadata": {},
   "source": [
    "When working with a data sample, faceting by percentages can quickly lead to dangerous conclusions that are not justified, simply because we don't see the absolute sample values and their distribution across the facets. Keeping this in mind, I'm gonna go with the unpopular opinion that count is a better tool for visualization than percentage, particularly in situations where samples are small."
   ]
  },
  {
   "cell_type": "code",
   "execution_count": 258,
   "metadata": {},
   "outputs": [
    {
     "data": {
      "image/png": "[encoded data removed]",
      "text/plain": [
       "plot without title"
      ]
     },
     "metadata": {},
     "output_type": "display_data"
    }
   ],
   "source": [
    "ggplot(aes(x=attrition, fill = attrition), data = df) + geom_bar() + \n",
    "scale_fill_manual(values = wes_palette(2, name = \"Moonrise3\")) + facet_wrap(~gender) + \n",
    "ggtitle(\"Attrition by Gender\") +xlab(\"Attrition\") + ylab(\"Count\")"
   ]
  },
  {
   "cell_type": "markdown",
   "metadata": {},
   "source": [
    "There doesn't seem to be any particularly concerning gender bias in attrition, but we might want to revisit this parameter while controling for other factors that influence the demographics. "
   ]
  },
  {
   "cell_type": "code",
   "execution_count": 259,
   "metadata": {},
   "outputs": [
    {
     "data": {
      "image/png": "[encoded data removed]",
      "text/plain": [
       "plot without title"
      ]
     },
     "metadata": {},
     "output_type": "display_data"
    }
   ],
   "source": [
    "ggplot(aes(x=attrition, fill = attrition), data = df) + geom_bar()+ \n",
    "scale_fill_manual(values = wes_palette(2, name = \"Moonrise3\")) + facet_wrap(~department) + \n",
    "ggtitle(\"Attrition by Department\") +xlab(\"Attrition\") + ylab(\"Count\")"
   ]
  },
  {
   "cell_type": "markdown",
   "metadata": {},
   "source": [
    "Unsurprisingly, sales is our leading source of attrition by proportion, but overall doesn't seem to be at worryingly high absolute values. A time series plot would be wonderful right about now, but sadly we have to work with static data."
   ]
  },
  {
   "cell_type": "code",
   "execution_count": 261,
   "metadata": {},
   "outputs": [
    {
     "data": {
      "image/png": "[encoded data removed]",
      "text/plain": [
       "plot without title"
      ]
     },
     "metadata": {},
     "output_type": "display_data"
    }
   ],
   "source": [
    "ggplot(aes(x=attrition, fill = attrition), data = df) + geom_bar()+ \n",
    "scale_fill_manual(values = wes_palette(2, name = \"Moonrise3\")) + facet_wrap(~jobrole) + \n",
    "ggtitle(\"Attrition by Job Role\") + xlab(\"Attrition\") + ylab(\"Count\")"
   ]
  },
  {
   "cell_type": "markdown",
   "metadata": {},
   "source": [
    "Sales reps seem to have an incredibly high attrition rate, but I'm willing to bet that our tiny sample size is skewing these observations. Yet its good to know which roles to keep an eye on."
   ]
  },
  {
   "cell_type": "markdown",
   "metadata": {},
   "source": [
    "### Finally, lets look at some important distributions - Age, Monthly Income and Experience"
   ]
  },
  {
   "cell_type": "markdown",
   "metadata": {},
   "source": [
    "Our histogram her shows the overall distribution of each variable, while the density plot in pink shows us the attrition distribution of those who have already left the company."
   ]
  },
  {
   "cell_type": "code",
   "execution_count": 262,
   "metadata": {
    "scrolled": false
   },
   "outputs": [
    {
     "data": {
      "image/png": "[encoded data removed]",
      "text/plain": [
       "plot without title"
      ]
     },
     "metadata": {},
     "output_type": "display_data"
    }
   ],
   "source": [
    "adf <- df[df$attrition == 'Yes',]\n",
    "\n",
    "ggplot(df, aes(x=age)) + \n",
    " geom_histogram(aes(y=..density..), fill=\"white\", bins = 20)+\n",
    " geom_density(data = adf, aes(x = age), alpha=.15, fill=\"#FF6666\") + ggtitle(\"Attrition Distribution by Age\")"
   ]
  },
  {
   "cell_type": "markdown",
   "metadata": {},
   "source": [
    "Looking at the difference in density and bin heights under 30 years, we can see that a disproportionately higher number of younger employees seem to be leaving the company."
   ]
  },
  {
   "cell_type": "code",
   "execution_count": 263,
   "metadata": {},
   "outputs": [
    {
     "data": {
      "image/png": "[encoded data removed]",
      "text/plain": [
       "plot without title"
      ]
     },
     "metadata": {},
     "output_type": "display_data"
    }
   ],
   "source": [
    "ggplot(df, aes(x=income)) + \n",
    "geom_histogram(aes(y=..density..), fill=\"white\", bins = 30)+\n",
    "geom_density(data = adf, aes(x = income), alpha=.15, fill=\"#FF6666\") + \n",
    "ggtitle(\"Attrition Distribution by Monthly Income\")"
   ]
  },
  {
   "cell_type": "markdown",
   "metadata": {},
   "source": [
    "There doesn't seem to be any discernable concern with respect to employee income, but given how crucial this factor is we would want to validate our hypothesis in our regression."
   ]
  },
  {
   "cell_type": "code",
   "execution_count": 264,
   "metadata": {},
   "outputs": [
    {
     "data": {
      "image/png": "[encoded data removed]",
      "text/plain": [
       "plot without title"
      ]
     },
     "metadata": {},
     "output_type": "display_data"
    }
   ],
   "source": [
    "ggplot(df, aes(x=totalexp)) + \n",
    "geom_histogram(aes(y=..density..), fill=\"white\", bins = 25)+\n",
    "geom_density(data = adf, aes(x = totalexp), alpha=.15, fill=\"#FF6666\") + \n",
    "ggtitle(\"Attrition Distribution by Work Experience\")"
   ]
  },
  {
   "cell_type": "markdown",
   "metadata": {},
   "source": [
    "Looks like less experienced employees (under 6 years) seem to have a higher rate of attrition than the veterans. This combined with our insights about age, paints a worrying picture about the younger workforce contributing to more than their fair share of churn. We can keep these in mind when looking at our attrition drivers."
   ]
  },
  {
   "cell_type": "markdown",
   "metadata": {},
   "source": [
    "## Socially Responsible People Analytics"
   ]
  },
  {
   "cell_type": "markdown",
   "metadata": {},
   "source": [
    "Some important considerations that we tend to miss while working with people data are the ethical and moral implication of our analysis. A lot of algorithms and models have inherent biases due to biased data. It's our job to build a responsible model and feed it the right ingredients keeping in mind social and cultural contexts. Given that, I'll be excluding gender and marital status from this analysis since we'll be using this dataset to build a predictive model. However, once our model has been built we can always look for associations with these variables. For example, if our model predicts a disproportionately high probability of attrition for women, we would want to look into the underlying drivers."
   ]
  },
  {
   "cell_type": "code",
   "execution_count": 185,
   "metadata": {},
   "outputs": [],
   "source": [
    "df <- subset(df, select = -c(gender, maritalstatus))"
   ]
  },
  {
   "cell_type": "markdown",
   "metadata": {},
   "source": [
    "## Pair Plots and Correlations"
   ]
  },
  {
   "cell_type": "markdown",
   "metadata": {},
   "source": [
    "Before jumping into modeling, we're gonna want to look at relationships between potential variables we would have to consider in our feature selection. There's all kinds of different ways to do this, but I'm gonna begin by building a bloated model with every single feature. Then, using stepwise regression based on AIC values, I'll cut down the irrelevant features. Finally, using pair plots and correlations with dummy coded variables, I'll decide which features should be removed or changed to fit our use case."
   ]
  },
  {
   "cell_type": "code",
   "execution_count": 222,
   "metadata": {},
   "outputs": [],
   "source": [
    "# Bloated Model\n",
    "\n",
    "set.seed(2017)\n",
    "sampletrain <- sample(1:nrow(df), nrow(df)*.7)\n",
    "sampletest = -sampletrain\n",
    "\n",
    "train <- df[sampletrain,]\n",
    "test <- df[sampletest,]\n",
    "\n",
    "logdf <- train\n",
    "logdf$attrition  <- ifelse(logdf$attrition == 'Yes', 1, 0)\n",
    "logdf$attrition  <- as.numeric(logdf$attrition)\n",
    "chonk  <- glm(attrition ~ ., data = logdf, family=\"binomial\")"
   ]
  },
  {
   "cell_type": "code",
   "execution_count": 223,
   "metadata": {},
   "outputs": [
    {
     "data": {
      "text/plain": [
       "\n",
       "Call:\n",
       "glm(formula = attrition ~ ., family = \"binomial\", data = logdf)\n",
       "\n",
       "Deviance Residuals: \n",
       "    Min       1Q   Median       3Q      Max  \n",
       "-1.7738  -0.4860  -0.2501  -0.0914   3.2983  \n",
       "\n",
       "Coefficients:\n",
       "                                   Estimate Std. Error z value Pr(>|z|)    \n",
       "(Intercept)                      -9.421e+00  4.646e+02  -0.020 0.983823    \n",
       "dailyrate                        -3.786e-04  2.623e-04  -1.443 0.148904    \n",
       "income                            1.123e-05  9.879e-05   0.114 0.909457    \n",
       "overtimeYes                       1.863e+00  2.306e-01   8.080 6.49e-16 ***\n",
       "salaryhike                       -3.174e-02  4.648e-02  -0.683 0.494698    \n",
       "stockoption                      -5.238e-01  1.388e-01  -3.774 0.000161 ***\n",
       "departmentResearch & Development  1.223e+01  4.646e+02   0.026 0.979008    \n",
       "departmentSales                   1.091e+01  4.646e+02   0.023 0.981274    \n",
       "jobroleHuman Resources            1.341e+01  4.646e+02   0.029 0.976972    \n",
       "jobroleLaboratory Technician      1.308e+00  5.595e-01   2.338 0.019394 *  \n",
       "jobroleManager                    5.730e-01  9.918e-01   0.578 0.563423    \n",
       "jobroleManufacturing Director    -2.641e-01  6.319e-01  -0.418 0.675966    \n",
       "jobroleResearch Director         -8.800e-01  1.038e+00  -0.847 0.396766    \n",
       "jobroleResearch Scientist         6.393e-01  5.667e-01   1.128 0.259225    \n",
       "jobroleSales Executive            2.109e+00  1.395e+00   1.512 0.130478    \n",
       "jobroleSales Representative       3.080e+00  1.452e+00   2.121 0.033923 *  \n",
       "joblevel                          1.223e-01  3.759e-01   0.325 0.744838    \n",
       "travelTravel_Frequently           2.149e+00  5.104e-01   4.210 2.56e-05 ***\n",
       "travelTravel_Rarely               1.114e+00  4.703e-01   2.370 0.017801 *  \n",
       "envsat                           -4.029e-01  9.935e-02  -4.056 5.00e-05 ***\n",
       "involvement                      -5.910e-01  1.441e-01  -4.102 4.10e-05 ***\n",
       "jobsat                           -4.167e-01  9.605e-02  -4.338 1.43e-05 ***\n",
       "relationsat                      -2.920e-01  9.849e-02  -2.965 0.003026 ** \n",
       "yearswithmanager                 -7.370e-02  5.072e-02  -1.453 0.146204    \n",
       "worklifebal                      -3.045e-01  1.473e-01  -2.067 0.038725 *  \n",
       "performancerating                 3.949e-01  4.649e-01   0.850 0.395554    \n",
       "lastpromotion                     1.868e-01  4.717e-02   3.961 7.48e-05 ***\n",
       "currentrole                      -1.045e-01  5.057e-02  -2.067 0.038735 *  \n",
       "trainings                        -2.438e-01  8.688e-02  -2.806 0.005017 ** \n",
       "age                              -4.248e-02  1.656e-02  -2.566 0.010295 *  \n",
       "distfromhome                      5.077e-02  1.305e-02   3.892 9.96e-05 ***\n",
       "education                        -8.222e-02  1.026e-01  -0.801 0.422966    \n",
       "educationfieldLife Sciences      -3.034e-01  9.897e-01  -0.307 0.759167    \n",
       "educationfieldMarketing           3.533e-01  1.043e+00   0.339 0.734879    \n",
       "educationfieldMedical            -3.162e-01  9.844e-01  -0.321 0.748052    \n",
       "educationfieldOther              -1.150e+00  1.079e+00  -1.066 0.286545    \n",
       "educationfieldTechnical Degree    2.689e-01  1.013e+00   0.265 0.790736    \n",
       "previouscompanies                 1.877e-01  4.443e-02   4.223 2.41e-05 ***\n",
       "totalexp                         -5.157e-02  3.276e-02  -1.574 0.115398    \n",
       "---\n",
       "Signif. codes:  0 '***' 0.001 '**' 0.01 '*' 0.05 '.' 0.1 ' ' 1\n",
       "\n",
       "(Dispersion parameter for binomial family taken to be 1)\n",
       "\n",
       "    Null deviance: 902.72  on 1028  degrees of freedom\n",
       "Residual deviance: 606.87  on  990  degrees of freedom\n",
       "AIC: 684.87\n",
       "\n",
       "Number of Fisher Scoring iterations: 14\n"
      ]
     },
     "metadata": {},
     "output_type": "display_data"
    }
   ],
   "source": [
    "summary(chonk)"
   ]
  },
  {
   "cell_type": "markdown",
   "metadata": {},
   "source": [
    "Right off the bat we have some super interesting insights. Our strongest predictor here by a large margin (going by t stat value and significance) is whether or not the employee is working overtime. The other predictors are our usual culprits, such as engagement, history of job change, distance from home, frequency of travel and years since last promotion.\n",
    "\n",
    "We also have some surprising insights, like salary hike, income, education and performance not being statistically significant in predicting probability of attrition.\n",
    "\n",
    "Let's remove some clearly redundant features and dig a little deeper."
   ]
  },
  {
   "cell_type": "code",
   "execution_count": 265,
   "metadata": {},
   "outputs": [],
   "source": [
    "logdf <- subset(logdf, select = -c(department, performancerating, education, educationfield))"
   ]
  },
  {
   "cell_type": "markdown",
   "metadata": {},
   "source": [
    "Now we dummy code our variables since we can't run a Pearson correlation with all these categorical variables."
   ]
  },
  {
   "cell_type": "code",
   "execution_count": 271,
   "metadata": {},
   "outputs": [
    {
     "data": {
      "text/html": [
       "<table>\n",
       "<thead><tr><th></th><th scope=col>attrition</th><th scope=col>dailyrate</th><th scope=col>income</th><th scope=col>salaryhike</th><th scope=col>stockoption</th><th scope=col>joblevel</th><th scope=col>envsat</th><th scope=col>involvement</th><th scope=col>jobsat</th><th scope=col>relationsat</th><th scope=col>...</th><th scope=col>jobrole_Laboratory Technician</th><th scope=col>jobrole_Manager</th><th scope=col>jobrole_Manufacturing Director</th><th scope=col>jobrole_Research Director</th><th scope=col>jobrole_Research Scientist</th><th scope=col>jobrole_Sales Executive</th><th scope=col>jobrole_Sales Representative</th><th scope=col>travel_Non-Travel</th><th scope=col>travel_Travel_Frequently</th><th scope=col>travel_Travel_Rarely</th></tr></thead>\n",
       "<tbody>\n",
       "\t<tr><th scope=row>attrition</th><td> 1.000000000 </td><td>-0.0619691960</td><td>-0.1564768453</td><td>-0.003537697 </td><td>-0.10847465  </td><td>-0.162733257 </td><td>-0.118304856 </td><td>-0.125012811 </td><td>-0.12223932  </td><td>-0.04980603  </td><td>...          </td><td> 0.06437255  </td><td>-0.083471420 </td><td>-0.091127018 </td><td>-0.083394191 </td><td> 0.022074589 </td><td> 0.028738863 </td><td> 0.152251111 </td><td>-0.076612997 </td><td> 0.134926816 </td><td>-0.063620608 </td></tr>\n",
       "\t<tr><th scope=row>dailyrate</th><td>-0.061969196 </td><td> 1.0000000000</td><td>-0.0005192943</td><td> 0.038544907 </td><td> 0.04299799  </td><td>-0.004461402 </td><td>-0.028578654 </td><td> 0.019215171 </td><td> 0.01269684  </td><td> 0.01448048  </td><td>...          </td><td>-0.01291719  </td><td>-0.016617299 </td><td> 0.001091403 </td><td> 0.005801604 </td><td> 0.010647116 </td><td>-0.001688930 </td><td>-0.004228182 </td><td> 0.003207718 </td><td>-0.032483465 </td><td> 0.025568433 </td></tr>\n",
       "\t<tr><th scope=row>income</th><td>-0.156476845 </td><td>-0.0005192943</td><td> 1.0000000000</td><td>-0.041911813 </td><td>-0.03235966  </td><td> 0.952741330 </td><td> 0.004656956 </td><td> 0.001157358 </td><td>-0.02820851  </td><td> 0.04125123  </td><td>...          </td><td>-0.32421604  </td><td> 0.631432527 </td><td> 0.046877775 </td><td> 0.477073576 </td><td>-0.341623356 </td><td> 0.030835979 </td><td>-0.210838826 </td><td>-0.014492961 </td><td>-0.030949276 </td><td> 0.036168565 </td></tr>\n",
       "\t<tr><th scope=row>salaryhike</th><td>-0.003537697 </td><td> 0.0385449069</td><td>-0.0419118127</td><td> 1.000000000 </td><td> 0.02298673  </td><td>-0.050273389 </td><td>-0.049287059 </td><td> 0.010718617 </td><td> 0.02275090  </td><td>-0.08605090  </td><td>...          </td><td>-0.02146378  </td><td>-0.006922995 </td><td> 0.016670026 </td><td>-0.033135856 </td><td> 0.058343672 </td><td>-0.047446659 </td><td> 0.018056553 </td><td> 0.041405051 </td><td>-0.006557992 </td><td>-0.022261158 </td></tr>\n",
       "\t<tr><th scope=row>stockoption</th><td>-0.108474652 </td><td> 0.0429979852</td><td>-0.0323596627</td><td> 0.022986732 </td><td> 1.00000000  </td><td>-0.036118510 </td><td> 0.023578432 </td><td> 0.021627761 </td><td> 0.01891831  </td><td>-0.07442644  </td><td>...          </td><td> 0.05718961  </td><td>-0.034867381 </td><td>-0.026358583 </td><td> 0.004642211 </td><td>-0.002857759 </td><td>-0.007645196 </td><td>-0.036756909 </td><td> 0.035882658 </td><td>-0.020217931 </td><td>-0.006885866 </td></tr>\n",
       "\t<tr><th scope=row>joblevel</th><td>-0.162733257 </td><td>-0.0044614021</td><td> 0.9527413300</td><td>-0.050273389 </td><td>-0.03611851  </td><td> 1.000000000 </td><td> 0.013527172 </td><td> 0.008042777 </td><td>-0.01526789  </td><td> 0.04017276  </td><td>...          </td><td>-0.34820622  </td><td> 0.565759564 </td><td> 0.109210901 </td><td> 0.407851562 </td><td>-0.391011442 </td><td> 0.112283687 </td><td>-0.228175301 </td><td>-0.009125455 </td><td>-0.024040533 </td><td> 0.026660061 </td></tr>\n",
       "</tbody>\n",
       "</table>\n"
      ],
      "text/latex": [
       "\\begin{tabular}{r|lllllllllllllllllllllllllllllllll}\n",
       "  & attrition & dailyrate & income & salaryhike & stockoption & joblevel & envsat & involvement & jobsat & relationsat & ... & jobrole\\_Laboratory Technician & jobrole\\_Manager & jobrole\\_Manufacturing Director & jobrole\\_Research Director & jobrole\\_Research Scientist & jobrole\\_Sales Executive & jobrole\\_Sales Representative & travel\\_Non-Travel & travel\\_Travel\\_Frequently & travel\\_Travel\\_Rarely\\\\\n",
       "\\hline\n",
       "\tattrition &  1.000000000  & -0.0619691960 & -0.1564768453 & -0.003537697  & -0.10847465   & -0.162733257  & -0.118304856  & -0.125012811  & -0.12223932   & -0.04980603   & ...           &  0.06437255   & -0.083471420  & -0.091127018  & -0.083394191  &  0.022074589  &  0.028738863  &  0.152251111  & -0.076612997  &  0.134926816  & -0.063620608 \\\\\n",
       "\tdailyrate & -0.061969196  &  1.0000000000 & -0.0005192943 &  0.038544907  &  0.04299799   & -0.004461402  & -0.028578654  &  0.019215171  &  0.01269684   &  0.01448048   & ...           & -0.01291719   & -0.016617299  &  0.001091403  &  0.005801604  &  0.010647116  & -0.001688930  & -0.004228182  &  0.003207718  & -0.032483465  &  0.025568433 \\\\\n",
       "\tincome & -0.156476845  & -0.0005192943 &  1.0000000000 & -0.041911813  & -0.03235966   &  0.952741330  &  0.004656956  &  0.001157358  & -0.02820851   &  0.04125123   & ...           & -0.32421604   &  0.631432527  &  0.046877775  &  0.477073576  & -0.341623356  &  0.030835979  & -0.210838826  & -0.014492961  & -0.030949276  &  0.036168565 \\\\\n",
       "\tsalaryhike & -0.003537697  &  0.0385449069 & -0.0419118127 &  1.000000000  &  0.02298673   & -0.050273389  & -0.049287059  &  0.010718617  &  0.02275090   & -0.08605090   & ...           & -0.02146378   & -0.006922995  &  0.016670026  & -0.033135856  &  0.058343672  & -0.047446659  &  0.018056553  &  0.041405051  & -0.006557992  & -0.022261158 \\\\\n",
       "\tstockoption & -0.108474652  &  0.0429979852 & -0.0323596627 &  0.022986732  &  1.00000000   & -0.036118510  &  0.023578432  &  0.021627761  &  0.01891831   & -0.07442644   & ...           &  0.05718961   & -0.034867381  & -0.026358583  &  0.004642211  & -0.002857759  & -0.007645196  & -0.036756909  &  0.035882658  & -0.020217931  & -0.006885866 \\\\\n",
       "\tjoblevel & -0.162733257  & -0.0044614021 &  0.9527413300 & -0.050273389  & -0.03611851   &  1.000000000  &  0.013527172  &  0.008042777  & -0.01526789   &  0.04017276   & ...           & -0.34820622   &  0.565759564  &  0.109210901  &  0.407851562  & -0.391011442  &  0.112283687  & -0.228175301  & -0.009125455  & -0.024040533  &  0.026660061 \\\\\n",
       "\\end{tabular}\n"
      ],
      "text/markdown": [
       "\n",
       "| <!--/--> | attrition | dailyrate | income | salaryhike | stockoption | joblevel | envsat | involvement | jobsat | relationsat | ... | jobrole_Laboratory Technician | jobrole_Manager | jobrole_Manufacturing Director | jobrole_Research Director | jobrole_Research Scientist | jobrole_Sales Executive | jobrole_Sales Representative | travel_Non-Travel | travel_Travel_Frequently | travel_Travel_Rarely |\n",
       "|---|---|---|---|---|---|---|---|---|---|---|---|---|---|---|---|---|---|---|---|---|---|\n",
       "| attrition |  1.000000000  | -0.0619691960 | -0.1564768453 | -0.003537697  | -0.10847465   | -0.162733257  | -0.118304856  | -0.125012811  | -0.12223932   | -0.04980603   | ...           |  0.06437255   | -0.083471420  | -0.091127018  | -0.083394191  |  0.022074589  |  0.028738863  |  0.152251111  | -0.076612997  |  0.134926816  | -0.063620608  |\n",
       "| dailyrate | -0.061969196  |  1.0000000000 | -0.0005192943 |  0.038544907  |  0.04299799   | -0.004461402  | -0.028578654  |  0.019215171  |  0.01269684   |  0.01448048   | ...           | -0.01291719   | -0.016617299  |  0.001091403  |  0.005801604  |  0.010647116  | -0.001688930  | -0.004228182  |  0.003207718  | -0.032483465  |  0.025568433  |\n",
       "| income | -0.156476845  | -0.0005192943 |  1.0000000000 | -0.041911813  | -0.03235966   |  0.952741330  |  0.004656956  |  0.001157358  | -0.02820851   |  0.04125123   | ...           | -0.32421604   |  0.631432527  |  0.046877775  |  0.477073576  | -0.341623356  |  0.030835979  | -0.210838826  | -0.014492961  | -0.030949276  |  0.036168565  |\n",
       "| salaryhike | -0.003537697  |  0.0385449069 | -0.0419118127 |  1.000000000  |  0.02298673   | -0.050273389  | -0.049287059  |  0.010718617  |  0.02275090   | -0.08605090   | ...           | -0.02146378   | -0.006922995  |  0.016670026  | -0.033135856  |  0.058343672  | -0.047446659  |  0.018056553  |  0.041405051  | -0.006557992  | -0.022261158  |\n",
       "| stockoption | -0.108474652  |  0.0429979852 | -0.0323596627 |  0.022986732  |  1.00000000   | -0.036118510  |  0.023578432  |  0.021627761  |  0.01891831   | -0.07442644   | ...           |  0.05718961   | -0.034867381  | -0.026358583  |  0.004642211  | -0.002857759  | -0.007645196  | -0.036756909  |  0.035882658  | -0.020217931  | -0.006885866  |\n",
       "| joblevel | -0.162733257  | -0.0044614021 |  0.9527413300 | -0.050273389  | -0.03611851   |  1.000000000  |  0.013527172  |  0.008042777  | -0.01526789   |  0.04017276   | ...           | -0.34820622   |  0.565759564  |  0.109210901  |  0.407851562  | -0.391011442  |  0.112283687  | -0.228175301  | -0.009125455  | -0.024040533  |  0.026660061  |\n",
       "\n"
      ],
      "text/plain": [
       "            attrition    dailyrate     income        salaryhike   stockoption\n",
       "attrition    1.000000000 -0.0619691960 -0.1564768453 -0.003537697 -0.10847465\n",
       "dailyrate   -0.061969196  1.0000000000 -0.0005192943  0.038544907  0.04299799\n",
       "income      -0.156476845 -0.0005192943  1.0000000000 -0.041911813 -0.03235966\n",
       "salaryhike  -0.003537697  0.0385449069 -0.0419118127  1.000000000  0.02298673\n",
       "stockoption -0.108474652  0.0429979852 -0.0323596627  0.022986732  1.00000000\n",
       "joblevel    -0.162733257 -0.0044614021  0.9527413300 -0.050273389 -0.03611851\n",
       "            joblevel     envsat       involvement  jobsat      relationsat ...\n",
       "attrition   -0.162733257 -0.118304856 -0.125012811 -0.12223932 -0.04980603 ...\n",
       "dailyrate   -0.004461402 -0.028578654  0.019215171  0.01269684  0.01448048 ...\n",
       "income       0.952741330  0.004656956  0.001157358 -0.02820851  0.04125123 ...\n",
       "salaryhike  -0.050273389 -0.049287059  0.010718617  0.02275090 -0.08605090 ...\n",
       "stockoption -0.036118510  0.023578432  0.021627761  0.01891831 -0.07442644 ...\n",
       "joblevel     1.000000000  0.013527172  0.008042777 -0.01526789  0.04017276 ...\n",
       "            jobrole_Laboratory Technician jobrole_Manager\n",
       "attrition    0.06437255                   -0.083471420   \n",
       "dailyrate   -0.01291719                   -0.016617299   \n",
       "income      -0.32421604                    0.631432527   \n",
       "salaryhike  -0.02146378                   -0.006922995   \n",
       "stockoption  0.05718961                   -0.034867381   \n",
       "joblevel    -0.34820622                    0.565759564   \n",
       "            jobrole_Manufacturing Director jobrole_Research Director\n",
       "attrition   -0.091127018                   -0.083394191             \n",
       "dailyrate    0.001091403                    0.005801604             \n",
       "income       0.046877775                    0.477073576             \n",
       "salaryhike   0.016670026                   -0.033135856             \n",
       "stockoption -0.026358583                    0.004642211             \n",
       "joblevel     0.109210901                    0.407851562             \n",
       "            jobrole_Research Scientist jobrole_Sales Executive\n",
       "attrition    0.022074589                0.028738863           \n",
       "dailyrate    0.010647116               -0.001688930           \n",
       "income      -0.341623356                0.030835979           \n",
       "salaryhike   0.058343672               -0.047446659           \n",
       "stockoption -0.002857759               -0.007645196           \n",
       "joblevel    -0.391011442                0.112283687           \n",
       "            jobrole_Sales Representative travel_Non-Travel\n",
       "attrition    0.152251111                 -0.076612997     \n",
       "dailyrate   -0.004228182                  0.003207718     \n",
       "income      -0.210838826                 -0.014492961     \n",
       "salaryhike   0.018056553                  0.041405051     \n",
       "stockoption -0.036756909                  0.035882658     \n",
       "joblevel    -0.228175301                 -0.009125455     \n",
       "            travel_Travel_Frequently travel_Travel_Rarely\n",
       "attrition    0.134926816             -0.063620608        \n",
       "dailyrate   -0.032483465              0.025568433        \n",
       "income      -0.030949276              0.036168565        \n",
       "salaryhike  -0.006557992             -0.022261158        \n",
       "stockoption -0.020217931             -0.006885866        \n",
       "joblevel    -0.024040533              0.026660061        "
      ]
     },
     "metadata": {},
     "output_type": "display_data"
    }
   ],
   "source": [
    "dummydf <- dummy_cols(logdf)\n",
    "dummydf  <- subset(dummydf, select = -c(overtime, jobrole, travel))\n",
    "\n",
    "head(cor(dummydf))"
   ]
  },
  {
   "cell_type": "markdown",
   "metadata": {},
   "source": [
    "I'm not sure if there's an industry standard or rule of thumb for feature elimination based on correlation, so I'm gonna make the assumption than anything over 60% is concerning. Let's rerun the code with our threshold. "
   ]
  },
  {
   "cell_type": "code",
   "execution_count": 273,
   "metadata": {},
   "outputs": [
    {
     "data": {
      "image/png": "[encoded data removed]",
      "text/plain": [
       "plot without title"
      ]
     },
     "metadata": {},
     "output_type": "display_data"
    }
   ],
   "source": [
    "imp <- subset(df, select = c(totalexp, age, yearswithmanager, income, currentrole, joblevel))\n",
    "\n",
    "corr.plot <- ggcorrplot(cor(imp), hc.order = TRUE, type = \"lower\", outline.col = \"white\")\n",
    "corr.plot"
   ]
  },
  {
   "cell_type": "markdown",
   "metadata": {},
   "source": [
    "None of these correlations seem surprising. However, we're going to have to decide how to deal with them. The good news is that based on our feature significance, we can drop job level, years with manager and income. This makes life much easier since our remaining features aren't significantly correlated with each other. "
   ]
  },
  {
   "cell_type": "code",
   "execution_count": 189,
   "metadata": {},
   "outputs": [],
   "source": [
    "logdf  <- subset(logdf, select = -c(income, joblevel, yearswithmanager))"
   ]
  },
  {
   "cell_type": "code",
   "execution_count": 200,
   "metadata": {},
   "outputs": [],
   "source": [
    "smallchonk  <- glm(attrition ~ ., data = logdf, family=\"binomial\"(link = \"logit\"))"
   ]
  },
  {
   "cell_type": "markdown",
   "metadata": {},
   "source": [
    "As a final step, we're gonna check the variance inflation factors for our remaining features just to make sure we don't have any trouble down the line."
   ]
  },
  {
   "cell_type": "code",
   "execution_count": 202,
   "metadata": {},
   "outputs": [
    {
     "name": "stdout",
     "output_type": "stream",
     "text": [
      "                      GVIF Df GVIF^(1/(2*Df))\n",
      "dailyrate         1.034547  1        1.017127\n",
      "overtime          1.185942  1        1.089010\n",
      "salaryhike        1.043341  1        1.021440\n",
      "stockoption       1.056612  1        1.027917\n",
      "jobrole           1.886120  8        1.040454\n",
      "travel            1.155135  2        1.036712\n",
      "envsat            1.096223  1        1.047007\n",
      "involvement       1.057007  1        1.028108\n",
      "jobsat            1.038439  1        1.019038\n",
      "relationsat       1.079122  1        1.038808\n",
      "worklifebal       1.052796  1        1.026059\n",
      "lastpromotion     1.732871  1        1.316385\n",
      "currentrole       1.653487  1        1.285880\n",
      "trainings         1.047155  1        1.023306\n",
      "age               1.853968  1        1.361605\n",
      "distfromhome      1.058743  1        1.028952\n",
      "previouscompanies 1.336964  1        1.156271\n",
      "totalexp          2.799192  1        1.673079\n"
     ]
    }
   ],
   "source": [
    "vif <- car::vif(smallchonk)\n",
    "print(vif)"
   ]
  },
  {
   "cell_type": "markdown",
   "metadata": {},
   "source": [
    "As expected, nothing too concerning here."
   ]
  },
  {
   "cell_type": "markdown",
   "metadata": {},
   "source": [
    "We're now gonna do stepwise model selection using AIC as our elimination criteria. We'll begin this with a function, but gradually use our own discretion given external context."
   ]
  },
  {
   "cell_type": "code",
   "execution_count": 204,
   "metadata": {},
   "outputs": [
    {
     "data": {
      "text/plain": [
       "\n",
       "Call:  glm(formula = attrition ~ overtime + stockoption + jobrole + \n",
       "    travel + envsat + involvement + jobsat + relationsat + worklifebal + \n",
       "    lastpromotion + currentrole + trainings + age + distfromhome + \n",
       "    previouscompanies + totalexp, family = binomial(link = \"logit\"), \n",
       "    data = logdf)\n",
       "\n",
       "Coefficients:\n",
       "                  (Intercept)                    overtimeYes  \n",
       "                      2.26387                        1.87354  \n",
       "                  stockoption         jobroleHuman Resources  \n",
       "                     -0.47684                        1.95712  \n",
       " jobroleLaboratory Technician                 jobroleManager  \n",
       "                      1.86602                        0.67313  \n",
       "jobroleManufacturing Director       jobroleResearch Director  \n",
       "                      1.02529                       -1.33343  \n",
       "    jobroleResearch Scientist         jobroleSales Executive  \n",
       "                      1.19620                        1.45930  \n",
       "  jobroleSales Representative        travelTravel_Frequently  \n",
       "                      2.77688                        2.13756  \n",
       "          travelTravel_Rarely                         envsat  \n",
       "                      1.09314                       -0.47954  \n",
       "                  involvement                         jobsat  \n",
       "                     -0.66811                       -0.36054  \n",
       "                  relationsat                    worklifebal  \n",
       "                     -0.27013                       -0.35513  \n",
       "                lastpromotion                    currentrole  \n",
       "                      0.17010                       -0.15907  \n",
       "                    trainings                            age  \n",
       "                     -0.18502                       -0.02908  \n",
       "                 distfromhome              previouscompanies  \n",
       "                      0.04029                        0.16880  \n",
       "                     totalexp  \n",
       "                     -0.04497  \n",
       "\n",
       "Degrees of Freedom: 1028 Total (i.e. Null);  1004 Residual\n",
       "Null Deviance:\t    909.3 \n",
       "Residual Deviance: 619.2 \tAIC: 669.2"
      ]
     },
     "metadata": {},
     "output_type": "display_data"
    }
   ],
   "source": [
    "stepAIC(smallchonk, trace = F)"
   ]
  },
  {
   "cell_type": "code",
   "execution_count": 207,
   "metadata": {},
   "outputs": [],
   "source": [
    "model  <- glm(formula = attrition ~ overtime + stockoption + jobrole + travel + envsat + involvement + \n",
    "jobsat + relationsat + worklifebal + lastpromotion + currentrole + trainings + age + distfromhome + \n",
    "previouscompanies + totalexp , data = logdf, family = binomial(link = \"logit\"))"
   ]
  },
  {
   "cell_type": "code",
   "execution_count": 208,
   "metadata": {},
   "outputs": [
    {
     "data": {
      "text/plain": [
       "\n",
       "Call:\n",
       "glm(formula = attrition ~ overtime + stockoption + jobrole + \n",
       "    travel + envsat + involvement + jobsat + relationsat + worklifebal + \n",
       "    lastpromotion + currentrole + trainings + age + distfromhome + \n",
       "    previouscompanies + totalexp, family = binomial(link = \"logit\"), \n",
       "    data = logdf)\n",
       "\n",
       "Deviance Residuals: \n",
       "    Min       1Q   Median       3Q      Max  \n",
       "-1.5971  -0.5166  -0.2705  -0.1022   3.6309  \n",
       "\n",
       "Coefficients:\n",
       "                              Estimate Std. Error z value Pr(>|z|)    \n",
       "(Intercept)                    2.26387    1.07451   2.107 0.035127 *  \n",
       "overtimeYes                    1.87354    0.22651   8.271  < 2e-16 ***\n",
       "stockoption                   -0.47684    0.13485  -3.536 0.000406 ***\n",
       "jobroleHuman Resources         1.95712    0.69282   2.825 0.004730 ** \n",
       "jobroleLaboratory Technician   1.86602    0.56446   3.306 0.000947 ***\n",
       "jobroleManager                 0.67313    0.82926   0.812 0.416949    \n",
       "jobroleManufacturing Director  1.02529    0.64861   1.581 0.113931    \n",
       "jobroleResearch Director      -1.33343    1.19896  -1.112 0.266073    \n",
       "jobroleResearch Scientist      1.19620    0.56897   2.102 0.035519 *  \n",
       "jobroleSales Executive         1.45930    0.55686   2.621 0.008778 ** \n",
       "jobroleSales Representative    2.77688    0.61955   4.482 7.39e-06 ***\n",
       "travelTravel_Frequently        2.13756    0.48575   4.401 1.08e-05 ***\n",
       "travelTravel_Rarely            1.09314    0.45311   2.413 0.015842 *  \n",
       "envsat                        -0.47954    0.09869  -4.859 1.18e-06 ***\n",
       "involvement                   -0.66811    0.14488  -4.611 4.00e-06 ***\n",
       "jobsat                        -0.36054    0.09446  -3.817 0.000135 ***\n",
       "relationsat                   -0.27013    0.09685  -2.789 0.005285 ** \n",
       "worklifebal                   -0.35513    0.15000  -2.367 0.017910 *  \n",
       "lastpromotion                  0.17010    0.04625   3.678 0.000235 ***\n",
       "currentrole                   -0.15907    0.04524  -3.516 0.000438 ***\n",
       "trainings                     -0.18502    0.08432  -2.194 0.028220 *  \n",
       "age                           -0.02908    0.01562  -1.862 0.062606 .  \n",
       "distfromhome                   0.04029    0.01254   3.214 0.001309 ** \n",
       "previouscompanies              0.16880    0.04505   3.747 0.000179 ***\n",
       "totalexp                      -0.04497    0.02656  -1.693 0.090419 .  \n",
       "---\n",
       "Signif. codes:  0 '***' 0.001 '**' 0.01 '*' 0.05 '.' 0.1 ' ' 1\n",
       "\n",
       "(Dispersion parameter for binomial family taken to be 1)\n",
       "\n",
       "    Null deviance: 909.34  on 1028  degrees of freedom\n",
       "Residual deviance: 619.21  on 1004  degrees of freedom\n",
       "AIC: 669.21\n",
       "\n",
       "Number of Fisher Scoring iterations: 7\n"
      ]
     },
     "metadata": {},
     "output_type": "display_data"
    }
   ],
   "source": [
    "summary(model)"
   ]
  },
  {
   "cell_type": "markdown",
   "metadata": {},
   "source": [
    "Now that we've begun working with \"serious\" features, it's only fair that we become more critical of our model's capabilities. If this were a linear model we could just pull the R-squared and call it a day. But since the stats community has never reached an agreement on the best pseudo Rsq for a GLM, let's just call it Christmas and use them all."
   ]
  },
  {
   "cell_type": "code",
   "execution_count": 196,
   "metadata": {},
   "outputs": [
    {
     "data": {
      "text/html": [
       "<dl class=dl-horizontal>\n",
       "\t<dt>McFadden</dt>\n",
       "\t\t<dd>0.319054283882425</dd>\n",
       "\t<dt>CoxSnell</dt>\n",
       "\t\t<dd>0.245689716565131</dd>\n",
       "\t<dt>Nagelkerke</dt>\n",
       "\t\t<dd>0.418727595010314</dd>\n",
       "\t<dt>Tjur</dt>\n",
       "\t\t<dd>0.344717285577032</dd>\n",
       "</dl>\n"
      ],
      "text/latex": [
       "\\begin{description*}\n",
       "\\item[McFadden] 0.319054283882425\n",
       "\\item[CoxSnell] 0.245689716565131\n",
       "\\item[Nagelkerke] 0.418727595010314\n",
       "\\item[Tjur] 0.344717285577032\n",
       "\\end{description*}\n"
      ],
      "text/markdown": [
       "McFadden\n",
       ":   0.319054283882425CoxSnell\n",
       ":   0.245689716565131Nagelkerke\n",
       ":   0.418727595010314Tjur\n",
       ":   0.344717285577032\n",
       "\n"
      ],
      "text/plain": [
       "  McFadden   CoxSnell Nagelkerke       Tjur \n",
       " 0.3190543  0.2456897  0.4187276  0.3447173 "
      ]
     },
     "metadata": {},
     "output_type": "display_data"
    }
   ],
   "source": [
    "DescTools::PseudoR2(stepmodel, which = c(\"McFadden\", \"CoxSnell\", \"Nagelkerke\", \"Tjur\"))"
   ]
  },
  {
   "cell_type": "markdown",
   "metadata": {},
   "source": [
    "Now we know that Cox and Snell is notoriously critical, so we're gonna keep that in mind here. Given that we're working with people data and that in my humble opinion human beings are the most complex and dynamic systems on the planet, I think a model that explains 30-40% of the overall variance is a great start.\n",
    "\n",
    "That is to say, I would never deploy this model to find out who's gonna quit and decide where to allocate my hiring budget for the next financial year, but this is a good start to better understand the drivers of attrition (as was our original goal)."
   ]
  },
  {
   "cell_type": "markdown",
   "metadata": {},
   "source": [
    "## Predicting Attrition"
   ]
  },
  {
   "cell_type": "markdown",
   "metadata": {},
   "source": [
    "Now for the fun stuff. We're gonna use our model above to predict attrition, find out our model's accuracy and look at the trade-offs between sensitivity and specificity in the context of our business case."
   ]
  },
  {
   "cell_type": "code",
   "execution_count": 226,
   "metadata": {},
   "outputs": [
    {
     "data": {
      "text/plain": [
       "Confusion Matrix and Statistics\n",
       "\n",
       "          Reference\n",
       "Prediction   0   1\n",
       "         0 358  40\n",
       "         1  10  33\n",
       "                                          \n",
       "               Accuracy : 0.8866          \n",
       "                 95% CI : (0.8533, 0.9147)\n",
       "    No Information Rate : 0.8345          \n",
       "    P-Value [Acc > NIR] : 0.001323        \n",
       "                                          \n",
       "                  Kappa : 0.5087          \n",
       "                                          \n",
       " Mcnemar's Test P-Value : 4.11e-05        \n",
       "                                          \n",
       "            Sensitivity : 0.9728          \n",
       "            Specificity : 0.4521          \n",
       "         Pos Pred Value : 0.8995          \n",
       "         Neg Pred Value : 0.7674          \n",
       "             Prevalence : 0.8345          \n",
       "         Detection Rate : 0.8118          \n",
       "   Detection Prevalence : 0.9025          \n",
       "      Balanced Accuracy : 0.7124          \n",
       "                                          \n",
       "       'Positive' Class : 0               \n",
       "                                          "
      ]
     },
     "metadata": {},
     "output_type": "display_data"
    }
   ],
   "source": [
    "test$attrition  <- ifelse(test$attrition == 'Yes', 1, 0)\n",
    "predictions <- predict(model, newdata=test, type='response')\n",
    "test$predictions <- ifelse(predictions >= 0.5, 1, 0)\n",
    "test$predictions <- as.factor(test$predictions)\n",
    "test$attrition  <- as.factor(test$attrition)\n",
    "\n",
    "caret::confusionMatrix(test$predictions, test$attrition)"
   ]
  },
  {
   "cell_type": "markdown",
   "metadata": {},
   "source": [
    "We've got a model accuracy of 88%! Can't get swayed by this though, cause our sample sizes are way too small to take this accuracy to heart. Especially when working with people data. However, this is still a great indicator that we have a functioning model that can help us tackle future attrition."
   ]
  },
  {
   "cell_type": "markdown",
   "metadata": {},
   "source": [
    "Our sensitivity is incredibly high, but our specificity is a bit poor. Putting this into business context, we will almost certainly correctly identify an employee that plans to quit. On the other hand, we will more often than not be unable to correctly identify people who plan to stay. This is exactly what we want, since even though we would want to use our engagement and L&D budget wisely, our priority is to minimize attrition and its associated hiring, onboarding and training costs, and long term impact on culture and organizational health. "
   ]
  },
  {
   "cell_type": "markdown",
   "metadata": {},
   "source": [
    "Let's look at an ROC curve to see how to adjust our probability threshold."
   ]
  },
  {
   "cell_type": "code",
   "execution_count": 274,
   "metadata": {},
   "outputs": [
    {
     "data": {
      "image/png": "[encoded data removed]",
      "text/plain": [
       "plot without title"
      ]
     },
     "metadata": {},
     "output_type": "display_data"
    }
   ],
   "source": [
    "rocprediction <- prediction(predictions, test$attrition)\n",
    "rocperformance <- performance(rocprediction,\"tpr\",\"fpr\")\n",
    "plot(rocperformance, print.cutoffs.at = seq(0.1, by = 0.1))"
   ]
  },
  {
   "cell_type": "markdown",
   "metadata": {},
   "source": [
    "Looks like a threshold of 0.35 or so would do us more justice. Let's validate that."
   ]
  },
  {
   "cell_type": "code",
   "execution_count": 237,
   "metadata": {},
   "outputs": [
    {
     "data": {
      "text/plain": [
       "Confusion Matrix and Statistics\n",
       "\n",
       "          Reference\n",
       "Prediction   0   1\n",
       "         0 348  27\n",
       "         1  20  46\n",
       "                                          \n",
       "               Accuracy : 0.8934          \n",
       "                 95% CI : (0.8608, 0.9206)\n",
       "    No Information Rate : 0.8345          \n",
       "    P-Value [Acc > NIR] : 0.0002971       \n",
       "                                          \n",
       "                  Kappa : 0.5988          \n",
       "                                          \n",
       " Mcnemar's Test P-Value : 0.3814706       \n",
       "                                          \n",
       "            Sensitivity : 0.9457          \n",
       "            Specificity : 0.6301          \n",
       "         Pos Pred Value : 0.9280          \n",
       "         Neg Pred Value : 0.6970          \n",
       "             Prevalence : 0.8345          \n",
       "         Detection Rate : 0.7891          \n",
       "   Detection Prevalence : 0.8503          \n",
       "      Balanced Accuracy : 0.7879          \n",
       "                                          \n",
       "       'Positive' Class : 0               \n",
       "                                          "
      ]
     },
     "metadata": {},
     "output_type": "display_data"
    }
   ],
   "source": [
    "test$predictions <- ifelse(predictions >= 0.35, 1, 0)\n",
    "test$predictions <- as.factor(test$predictions)\n",
    "test$attrition  <- as.factor(test$attrition)\n",
    "\n",
    "caret::confusionMatrix(test$predictions, test$attrition)"
   ]
  },
  {
   "cell_type": "markdown",
   "metadata": {},
   "source": [
    "Looks like we took a bit of a hit with our sensitivity, but our specificity has sky-rocketed. However, given our business case it might be best to stick with the default threshold. Again, we would want to validate these with all the client data and not just a sample of it.\n",
    "\n",
    "Given that our client's focus is on new hire and high performer attrition, we would want to apply this model to datasets filtered for those considerations and tweak our parameters and thresholds accordingly."
   ]
  },
  {
   "cell_type": "markdown",
   "metadata": {},
   "source": [
    "## Concluding Thoughts"
   ]
  },
  {
   "cell_type": "markdown",
   "metadata": {},
   "source": [
    "There seem to be some fairly strightforward insights into IBM's attrition dilemma. However, implementing any correctional measures would be far from simple. I personally believe that attrition modeling should not be done with static data. A time series analysis and more importantly, models derived from survival analytics (like Cox proportional hazards regression) are far better suited to notice higher level, big picture issues with organizational attrition as a whole. However, the insights we have received from this analysis would definitely help direct HR strategy, particularly from the perspective of employee engagement, work-life balance and inclusivity. \n",
    "\n",
    "We are now ready to embed this model into Tableau using the Rserve connection, and build our MVP."
   ]
  }
 ],
 "metadata": {
  "kernelspec": {
   "display_name": "R",
   "language": "R",
   "name": "ir"
  },
  "language_info": {
   "codemirror_mode": "r",
   "file_extension": ".r",
   "mimetype": "text/x-r-source",
   "name": "R",
   "pygments_lexer": "r",
   "version": "3.6.1"
  }
 },
 "nbformat": 4,
 "nbformat_minor": 2
}
